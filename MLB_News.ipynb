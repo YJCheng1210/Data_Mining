{
 "cells": [
  {
   "cell_type": "code",
   "execution_count": 1,
   "metadata": {},
   "outputs": [
    {
     "data": {
      "text/plain": [
       "['How 4 playoff contenders fixed their infield defense',\n",
       " 'Like Soto, these 5 players will ignite the rumor mill hype machine',\n",
       " '48-year-old former big leaguer steps out of retirement & onto hill',\n",
       " 'Blue Jays sign JBJ to bolster outfield depth',\n",
       " \"Abbi Jacobson wants to share the untold stories in new 'A League of Their Own'\",\n",
       " 'Flaherty to begin rehab assignment',\n",
       " 'Sale fractures wrist in bike accident, out for 2022 season',\n",
       " 'LLWS batter hugs pitcher after HBP to helmet in touching moment',\n",
       " 'Yanks recall Andújar; place Carpenter on IL',\n",
       " 'Tim Anderson out 6 weeks with ligament tear in finger',\n",
       " \"Future with Mets uncertain, Dom Smith says he's 'at peace'\",\n",
       " \"Some pop! With dad taping, Nats' first-rounder Green homers in pro debut\",\n",
       " 'Speedy pitcher takes rundown into his own hands',\n",
       " 'Road trip journal to MiLB at Field of Dreams',\n",
       " \"Singer 'at a different level' in brilliant G1 start\",\n",
       " \"Hosmer's return was time to look back -- and forward\",\n",
       " \"'Emotional leader' Heyward, Cubs to part ways\",\n",
       " 'Bassitt bears down in 114-pitch, 8-inning gem',\n",
       " 'Yankees refocus, snap 5-game losing streak',\n",
       " 'Details for Field of Dreams Game (Thursday, FOX, 7 p.m. ET)',\n",
       " \"'Oh wow!' Little Leaguer goes full extension for sensational grab\",\n",
       " 'Mountcastle (HR, 2 RBIs) boosts historic numbers vs. Jays',\n",
       " \"Carpenter fractures foot, but hopes to return in '22\",\n",
       " 'Reds, Cubs show off Field of Dreams uniforms']"
      ]
     },
     "execution_count": 1,
     "metadata": {},
     "output_type": "execute_result"
    }
   ],
   "source": [
    "import requests\n",
    "from bs4 import BeautifulSoup\n",
    "\n",
    "response = requests.get('https://www.mlb.com/news')\n",
    "\n",
    "soup = BeautifulSoup(response.text)\n",
    "\n",
    "headlines = soup.select('h1')\n",
    "\n",
    "[e.get_text().replace('\\n', '').strip() for e in headlines]"
   ]
  }
 ],
 "metadata": {
  "kernelspec": {
   "display_name": "Python 3.10.5 64-bit",
   "language": "python",
   "name": "python3"
  },
  "language_info": {
   "codemirror_mode": {
    "name": "ipython",
    "version": 3
   },
   "file_extension": ".py",
   "mimetype": "text/x-python",
   "name": "python",
   "nbconvert_exporter": "python",
   "pygments_lexer": "ipython3",
   "version": "3.10.5"
  },
  "orig_nbformat": 4,
  "vscode": {
   "interpreter": {
    "hash": "a42ccb73e7d9bfdf27e036f1d2b8b681e55fc0743cc5586bc2474d4a60f4b886"
   }
  }
 },
 "nbformat": 4,
 "nbformat_minor": 2
}
