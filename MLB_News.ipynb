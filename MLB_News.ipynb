{
 "cells": [
  {
   "cell_type": "code",
   "execution_count": 5,
   "metadata": {},
   "outputs": [
    {
     "data": {
      "text/plain": [
       "[\"Vintage Scherzer, 'motivated' Mets sweep twin bill from Braves\",\n",
       " 'Here are the X-factors for 8 quiet Deadline teams',\n",
       " 'Remember me? Monty burns Yankees in Cards debut',\n",
       " \"Muncy's mash helps Dodgers turn back Padres again\",\n",
       " 'Has Bryce Harper found his second career?',\n",
       " \"Guardians DFA Franmil amid tough '22 season\",\n",
       " 'Mariners add a free agent: Tucker, the clubhouse dog',\n",
       " 'Red-hot Phils tally six-run 1st, never look back',\n",
       " \"Tatis sees first game action of '22 in rehab stint\",\n",
       " \"'Still hasn't hit me': White Sox RBI teams sweep World Series titles\",\n",
       " 'Watch Astros vs. Guardians today at noon ET on Peacock',\n",
       " \"Pratto's 2nd MLB homer a walk-off flashback\",\n",
       " 'With 2 homers, Barrero ends 122-year Reds drought',\n",
       " 'Here is how Nola is pitching like an ace again',\n",
       " 'Injuries: Springer, Rizzo, Tatis, J-Rod',\n",
       " \"Brooks helps celebrate Camden, 'thrilling' young O's\",\n",
       " 'Castro connection: Harold, Willi make rare 3-9 putout',\n",
       " 'After a coffee run, Burdick notches first MLB hit',\n",
       " \"Miranda, Gordon leading Twins' youth movement\",\n",
       " \"'Late Night' LaMonte makes a marquee return\",\n",
       " \"Rosario's improved glovework complements steady bat\",\n",
       " 'Ranking the contenders by playoff urgency',\n",
       " \"Sweet Lou's No. 1 joins Tigers greats on outfield wall\",\n",
       " \"Lamet 'ready to go' after whirlwind week\"]"
      ]
     },
     "execution_count": 5,
     "metadata": {},
     "output_type": "execute_result"
    }
   ],
   "source": [
    "import requests\n",
    "from bs4 import BeautifulSoup\n",
    "\n",
    "response = requests.get('https://www.mlb.com/news')\n",
    "\n",
    "soup = BeautifulSoup(response.text)\n",
    "\n",
    "headlines = soup.select('h1')\n",
    "\n",
    "[e.get_text().replace('\\n', '').strip() for e in headlines]"
   ]
  }
 ],
 "metadata": {
  "kernelspec": {
   "display_name": "Python 3.10.5 64-bit",
   "language": "python",
   "name": "python3"
  },
  "language_info": {
   "codemirror_mode": {
    "name": "ipython",
    "version": 3
   },
   "file_extension": ".py",
   "mimetype": "text/x-python",
   "name": "python",
   "nbconvert_exporter": "python",
   "pygments_lexer": "ipython3",
   "version": "3.10.5"
  },
  "orig_nbformat": 4,
  "vscode": {
   "interpreter": {
    "hash": "a42ccb73e7d9bfdf27e036f1d2b8b681e55fc0743cc5586bc2474d4a60f4b886"
   }
  }
 },
 "nbformat": 4,
 "nbformat_minor": 2
}
