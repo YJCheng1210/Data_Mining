{
 "cells": [
  {
   "cell_type": "code",
   "execution_count": 5,
   "metadata": {},
   "outputs": [
    {
     "name": "stdout",
     "output_type": "stream",
     "text": [
      "SPDR標準普爾500指數ETF\tNYSEARCA: SPY\n",
      "418.13 USD\n",
      "已收盤: 8月10日 上午10:06 [EDT]\n",
      "Close Price:    ()\n",
      "開盤 418.71\n",
      "最高 418.85\n",
      "最低 417.21\n",
      "市值 3774.50億\n",
      "本益比 -\n",
      "殖利率 -\n",
      "52 週高點 479.98\n",
      "52 週低點 362.17\n"
     ]
    }
   ],
   "source": [
    "import requests\n",
    "from bs4 import BeautifulSoup\n",
    "\n",
    "headers = {'User-Agent': 'Mozilla/5.0 (Windows NT 10.0; Win64; x64) AppleWebKit/537.36 (KHTML, like Gecko) Chrome/58.0.3029.110 Safari/537.3'}\n",
    "\n",
    "def stock(code):\n",
    "    res = requests.get(\n",
    "        f'https://www.google.com/search?q={code}+stock&oq={code}+stock&aqs=chrome.0.69i59j0i131i433i512j0i512l8.2291j1j9&sourceid=chrome&ie=UTF-8', headers=headers)\n",
    "  \n",
    "    soup = BeautifulSoup(res.text, 'html.parser')\n",
    "\n",
    "    stock_value = \"\"\n",
    "    stock_value += soup.find(\"div\", class_=\"PyJv1b\").get_text()\n",
    "    stock_value += '\\t'\n",
    "    stock_value += soup.find(\"div\", class_=\"wx62f\").get_text()\n",
    "    stock_value += '\\n'\n",
    "    stock_value += soup.find(\"span\", jsname=\"vWLAgc\").get_text()\n",
    "    stock_value += soup.find(\"span\", jsname=\"T3Us2d\").get_text()\n",
    "    stock_value += '\\n'\n",
    "    stock_value += soup.find(\"span\", jsname=\"lb3Vg\").get_text()\n",
    "    stock_value += soup.find(\"span\", jsname=\"ihIZgd\").get_text()\n",
    "    stock_value += '\\nClose Price: '\n",
    "    stock_value += soup.find(\"span\", jsname=\"wurNO\").get_text()\n",
    "    stock_value += ' '\n",
    "    stock_value += soup.find(\"span\", jsname=\"TmYleb\").get_text()\n",
    "    stock_value += ' '\n",
    "    stock_value += soup.find(\"span\", jsname=\"sam3Lb\").get_text()\n",
    "\n",
    "    print(stock_value)\n",
    "\n",
    "    table_value = dict(zip([attribute.get_text() for attribute in soup.find_all(\"td\", class_=\"JgXcPd\")],\n",
    "                        [value.get_text() for value in soup.find_all(\"td\", class_=\"iyjjgb\")]))\n",
    "\n",
    "    for k, v in table_value.items():\n",
    "        print(k, v)\n",
    "\n",
    "code = input(\"Enter the stock code: \")\n",
    "\n",
    "stock(code)"
   ]
  }
 ],
 "metadata": {
  "kernelspec": {
   "display_name": "Python 3.10.5 64-bit",
   "language": "python",
   "name": "python3"
  },
  "language_info": {
   "codemirror_mode": {
    "name": "ipython",
    "version": 3
   },
   "file_extension": ".py",
   "mimetype": "text/x-python",
   "name": "python",
   "nbconvert_exporter": "python",
   "pygments_lexer": "ipython3",
   "version": "3.10.5"
  },
  "orig_nbformat": 4,
  "vscode": {
   "interpreter": {
    "hash": "3e6eaf00392b0cb8b5a646d3515e821c15d6342d64f11192f7e7dc8c1b273a06"
   }
  }
 },
 "nbformat": 4,
 "nbformat_minor": 2
}
