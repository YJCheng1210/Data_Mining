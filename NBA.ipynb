{
 "cells": [
  {
   "cell_type": "code",
   "execution_count": 14,
   "metadata": {},
   "outputs": [
    {
     "name": "stdout",
     "output_type": "stream",
     "text": [
      " Leage, teams are:['Team Croatia', 'Team China', 'Adelaide 36ers', 'Beijing Ducks', 'San Lorenzo de Almagro', 'SESI/Franca', 'Guangzhou Long-Lions', 'Haifa Maccabi Haifa', 'Melbourne United', 'New Zealand Breakers', 'Perth Wildcats', 'Rio de Janeiro Flamengo', 'Shanghai Sharks', 'Sydney Kings']\n",
      "Southeast Leage, teams are:['Atlanta Hawks', 'Charlotte Hornets', 'Miami Heat', 'Orlando Magic', 'Washington Wizards']\n",
      "East Leage, teams are:['Away Away', 'Home Home', 'All-Stars', 'Team Giannis', 'USA', 'World']\n",
      "Atlantic Leage, teams are:['Boston Celtics', 'Brooklyn Nets', 'New York Knicks', 'Philadelphia 76ers', 'Toronto Raptors']\n",
      "Central Leage, teams are:['Chicago Bulls', 'Cleveland Cavaliers', 'Detroit Pistons', 'Indiana Pacers', 'Milwaukee Bucks']\n",
      "Southwest Leage, teams are:['Dallas Mavericks', 'Houston Rockets', 'Memphis Grizzlies', 'New Orleans Pelicans', 'San Antonio Spurs']\n",
      "Northwest Leage, teams are:['Denver Nuggets', 'Minnesota Timberwolves', 'Oklahoma City Thunder', 'Portland Trail Blazers', 'Utah Jazz']\n",
      "Pacific Leage, teams are:['Golden State Warriors', 'LA Clippers', 'Los Angeles Lakers', 'Phoenix Suns', 'Sacramento Kings']\n",
      "West Leage, teams are:['All-Stars', 'Team LeBron']\n"
     ]
    }
   ],
   "source": [
    "import requests\n",
    "\n",
    "request_url = \"http://data.nba.net/prod/v2/2019/teams.json\"\n",
    "response = requests.get(request_url)         # request\n",
    "response_json = response.json()              # parsing\n",
    "teams = response_json['league']['standard']\n",
    "nba_teams = [team['fullName'] for team in teams if team['isNBAFranchise']]\n",
    "team_dict = {}\n",
    "for team in teams:\n",
    "    div_name = team['divName']\n",
    "    full_name = team['fullName']\n",
    "    if div_name in team_dict.keys():\n",
    "        team_dict[div_name].append(full_name)\n",
    "    else:\n",
    "        team_dict[div_name] = [full_name]\n",
    "\n",
    "for k, v in team_dict.items():\n",
    "    print(f'{k} Leage, teams are:{v}')"
   ]
  }
 ],
 "metadata": {
  "kernelspec": {
   "display_name": "Python 3.10.5 64-bit",
   "language": "python",
   "name": "python3"
  },
  "language_info": {
   "codemirror_mode": {
    "name": "ipython",
    "version": 3
   },
   "file_extension": ".py",
   "mimetype": "text/x-python",
   "name": "python",
   "nbconvert_exporter": "python",
   "pygments_lexer": "ipython3",
   "version": "3.10.5"
  },
  "orig_nbformat": 4,
  "vscode": {
   "interpreter": {
    "hash": "3e6eaf00392b0cb8b5a646d3515e821c15d6342d64f11192f7e7dc8c1b273a06"
   }
  }
 },
 "nbformat": 4,
 "nbformat_minor": 2
}
