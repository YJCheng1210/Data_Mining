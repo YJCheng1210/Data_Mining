{
 "cells": [
  {
   "cell_type": "code",
   "execution_count": 2,
   "metadata": {},
   "outputs": [],
   "source": [
    "import requests\n",
    "import pandas as pd\n",
    "import io"
   ]
  },
  {
   "cell_type": "code",
   "execution_count": 3,
   "metadata": {},
   "outputs": [],
   "source": [
    "def crawler(data_time):\n",
    "    url =  'https://www.twse.com.tw/exchangeReport/MI_INDEX?response=csv&date=' + data_time + '&type=ALLBUT0999'\n",
    "    page = requests.get(url).text\n",
    "    use_text = page.splitlines()\n",
    "    for i, text in enumerate(use_text):\n",
    "        if text == '\"證券代號\",\"證券名稱\",\"成交股數\",\"成交筆數\",\"成交金額\",\"開盤價\",\"最高價\",\"最低價\",\"收盤價\",\"漲跌(+/-)\",\"漲跌價差\",\"最後揭示買價\",\"最後揭示買量\",\"最後揭示賣價\",\"最後揭示賣量\",\"本益比\",':\n",
    "            initial_point = i\n",
    "            break\n",
    "    test_df = pd.read_csv(io.StringIO((''.join([text[:-1] + '\\n' for text in use_text[initial_point:]]))))\n",
    "    test_df['證券代號'] = test_df['證券代號'].apply(lambda x:x.replace('\"', ''))\n",
    "    test_df['證券代號'] = test_df['證券代號'].apply(lambda x:x.replace('=', ''))\n",
    "    return test_df"
   ]
  },
  {
   "cell_type": "code",
   "execution_count": 4,
   "metadata": {},
   "outputs": [],
   "source": [
    "import datetime\n",
    "import time\n",
    "\n",
    "def trans_date(date_time):\n",
    "    return str(date_time).split(' ')[0].replace('-', '')\n",
    "\n",
    "def parse_n_days(start_date, n):\n",
    "    df_dict = {}\n",
    "    now_date = start_date\n",
    "    for i in range(n):\n",
    "        time.sleep(3)\n",
    "        try:\n",
    "            df = crawler(trans_date(now_date))\n",
    "            print('Successful!!' + ' ' + trans_date(now_date))\n",
    "            df_dict.update({trans_date(now_date):df})\n",
    "        except:\n",
    "            print('Fails at' + ' ' + trans_date(now_date))\n",
    "        now_date = now_date - datetime.timedelta(days=1)\n",
    "    return df_dict"
   ]
  },
  {
   "cell_type": "code",
   "execution_count": null,
   "metadata": {},
   "outputs": [],
   "source": [
    "result_dict = parse_n_days(datetime.datetime.now(), 600)"
   ]
  },
  {
   "cell_type": "code",
   "execution_count": 13,
   "metadata": {},
   "outputs": [],
   "source": [
    "for key in result_dict.keys():\n",
    "    result_dict[key].to_csv(str(key) + '.csv')"
   ]
  },
  {
   "cell_type": "markdown",
   "metadata": {},
   "source": [
    "### Build a sqlite database, manipulate csv files"
   ]
  },
  {
   "cell_type": "code",
   "execution_count": 1,
   "metadata": {},
   "outputs": [],
   "source": [
    "import pandas as pd\n",
    "import sqlite3\n",
    "import glob"
   ]
  },
  {
   "cell_type": "markdown",
   "metadata": {},
   "source": [
    "### Read all csv files\n",
    "- import glob module\n",
    "- Analyzing Data from Multiple Files"
   ]
  },
  {
   "cell_type": "code",
   "execution_count": 2,
   "metadata": {},
   "outputs": [],
   "source": [
    "All_csv_file = glob.glob('*.csv')"
   ]
  },
  {
   "cell_type": "code",
   "execution_count": 4,
   "metadata": {},
   "outputs": [],
   "source": [
    "df = pd.read_csv(All_csv_file[0])"
   ]
  },
  {
   "cell_type": "code",
   "execution_count": null,
   "metadata": {},
   "outputs": [],
   "source": [
    "df.iloc[:,1:].head()  # read from 1st column"
   ]
  },
  {
   "cell_type": "markdown",
   "metadata": {},
   "source": [
    "### Create a database by using sqlite3 module"
   ]
  },
  {
   "cell_type": "code",
   "execution_count": 17,
   "metadata": {},
   "outputs": [],
   "source": [
    "dbname = 'TWStock.db'"
   ]
  },
  {
   "cell_type": "code",
   "execution_count": 18,
   "metadata": {},
   "outputs": [],
   "source": [
    "db = sqlite3.connect(dbname)"
   ]
  },
  {
   "cell_type": "code",
   "execution_count": 19,
   "metadata": {},
   "outputs": [
    {
     "name": "stdout",
     "output_type": "stream",
     "text": [
      "CPU times: total: 9.17 s\n",
      "Wall time: 26.5 s\n"
     ]
    }
   ],
   "source": [
    "%%time\n",
    "for file_name in All_csv_file:\n",
    "    pd.read_csv(file_name).iloc[:,1:].to_sql(file_name.replace('.csv', ''), db, if_exists='replace')"
   ]
  },
  {
   "cell_type": "markdown",
   "metadata": {},
   "source": [
    "### Read Database Table"
   ]
  },
  {
   "cell_type": "code",
   "execution_count": 20,
   "metadata": {},
   "outputs": [],
   "source": [
    "dates_list = [file_name.replace('.csv', '') for file_name in All_csv_file]"
   ]
  },
  {
   "cell_type": "code",
   "execution_count": null,
   "metadata": {},
   "outputs": [],
   "source": [
    "%%time\n",
    "total_df = pd.DataFrame()\n",
    "for date in dates_list:\n",
    "    df = pd.read_sql(con=db, sql='SELECT * FROM \"' + date + '\"')\n",
    "    df['Date'] = date\n",
    "    total_df = total_df.append(df)"
   ]
  },
  {
   "cell_type": "code",
   "execution_count": 27,
   "metadata": {},
   "outputs": [
    {
     "data": {
      "text/plain": [
       "(457457, 18)"
      ]
     },
     "execution_count": 27,
     "metadata": {},
     "output_type": "execute_result"
    }
   ],
   "source": [
    "total_df.shape"
   ]
  },
  {
   "cell_type": "code",
   "execution_count": 28,
   "metadata": {},
   "outputs": [],
   "source": [
    "dbname_2 = 'TWStock_2'\n",
    "db2 = sqlite3.connect(dbname_2)"
   ]
  },
  {
   "cell_type": "code",
   "execution_count": 30,
   "metadata": {},
   "outputs": [
    {
     "name": "stdout",
     "output_type": "stream",
     "text": [
      "CPU times: total: 875 ms\n",
      "Wall time: 875 ms\n"
     ]
    }
   ],
   "source": [
    "%%time\n",
    "total_dict = dict(tuple(total_df.groupby('證券代號')))"
   ]
  },
  {
   "cell_type": "code",
   "execution_count": 31,
   "metadata": {},
   "outputs": [],
   "source": [
    "for key in total_dict.keys():\n",
    "    df = total_dict[key].iloc[:,2:]\n",
    "    df['Date'] = pd.to_datetime(df['Date'])\n",
    "    df = df.sort_values(by=['Date'])\n",
    "    df.to_sql(key, db2, if_exists='replace')"
   ]
  },
  {
   "cell_type": "code",
   "execution_count": 33,
   "metadata": {},
   "outputs": [
    {
     "data": {
      "text/html": [
       "<div>\n",
       "<style scoped>\n",
       "    .dataframe tbody tr th:only-of-type {\n",
       "        vertical-align: middle;\n",
       "    }\n",
       "\n",
       "    .dataframe tbody tr th {\n",
       "        vertical-align: top;\n",
       "    }\n",
       "\n",
       "    .dataframe thead th {\n",
       "        text-align: right;\n",
       "    }\n",
       "</style>\n",
       "<table border=\"1\" class=\"dataframe\">\n",
       "  <thead>\n",
       "    <tr style=\"text-align: right;\">\n",
       "      <th></th>\n",
       "      <th>index</th>\n",
       "      <th>證券名稱</th>\n",
       "      <th>成交股數</th>\n",
       "      <th>成交筆數</th>\n",
       "      <th>成交金額</th>\n",
       "      <th>開盤價</th>\n",
       "      <th>最高價</th>\n",
       "      <th>最低價</th>\n",
       "      <th>收盤價</th>\n",
       "      <th>漲跌(+/-)</th>\n",
       "      <th>漲跌價差</th>\n",
       "      <th>最後揭示買價</th>\n",
       "      <th>最後揭示買量</th>\n",
       "      <th>最後揭示賣價</th>\n",
       "      <th>最後揭示賣量</th>\n",
       "      <th>本益比</th>\n",
       "      <th>Date</th>\n",
       "    </tr>\n",
       "  </thead>\n",
       "  <tbody>\n",
       "    <tr>\n",
       "      <th>395</th>\n",
       "      <td>448</td>\n",
       "      <td>台積電</td>\n",
       "      <td>24,991,291</td>\n",
       "      <td>26,792</td>\n",
       "      <td>12,569,771,761</td>\n",
       "      <td>506.00</td>\n",
       "      <td>508.00</td>\n",
       "      <td>500.00</td>\n",
       "      <td>504.00</td>\n",
       "      <td>-</td>\n",
       "      <td>5.0</td>\n",
       "      <td>503.00</td>\n",
       "      <td>6</td>\n",
       "      <td>504.00</td>\n",
       "      <td>315</td>\n",
       "      <td>19.81</td>\n",
       "      <td>2022-08-01 00:00:00</td>\n",
       "    </tr>\n",
       "    <tr>\n",
       "      <th>396</th>\n",
       "      <td>448</td>\n",
       "      <td>台積電</td>\n",
       "      <td>42,669,591</td>\n",
       "      <td>63,879</td>\n",
       "      <td>20,973,293,337</td>\n",
       "      <td>494.00</td>\n",
       "      <td>496.00</td>\n",
       "      <td>488.50</td>\n",
       "      <td>492.00</td>\n",
       "      <td>-</td>\n",
       "      <td>12.0</td>\n",
       "      <td>491.50</td>\n",
       "      <td>44</td>\n",
       "      <td>492.00</td>\n",
       "      <td>350</td>\n",
       "      <td>19.34</td>\n",
       "      <td>2022-08-02 00:00:00</td>\n",
       "    </tr>\n",
       "    <tr>\n",
       "      <th>397</th>\n",
       "      <td>448</td>\n",
       "      <td>台積電</td>\n",
       "      <td>29,838,832</td>\n",
       "      <td>25,570</td>\n",
       "      <td>14,823,224,632</td>\n",
       "      <td>494.00</td>\n",
       "      <td>501.00</td>\n",
       "      <td>493.00</td>\n",
       "      <td>501.00</td>\n",
       "      <td>+</td>\n",
       "      <td>9.0</td>\n",
       "      <td>500.00</td>\n",
       "      <td>9</td>\n",
       "      <td>501.00</td>\n",
       "      <td>581</td>\n",
       "      <td>19.69</td>\n",
       "      <td>2022-08-03 00:00:00</td>\n",
       "    </tr>\n",
       "    <tr>\n",
       "      <th>398</th>\n",
       "      <td>448</td>\n",
       "      <td>台積電</td>\n",
       "      <td>26,589,086</td>\n",
       "      <td>27,173</td>\n",
       "      <td>13,279,624,282</td>\n",
       "      <td>499.00</td>\n",
       "      <td>503.00</td>\n",
       "      <td>495.00</td>\n",
       "      <td>500.00</td>\n",
       "      <td>-</td>\n",
       "      <td>1.0</td>\n",
       "      <td>499.50</td>\n",
       "      <td>592</td>\n",
       "      <td>500.00</td>\n",
       "      <td>4</td>\n",
       "      <td>19.65</td>\n",
       "      <td>2022-08-04 00:00:00</td>\n",
       "    </tr>\n",
       "    <tr>\n",
       "      <th>399</th>\n",
       "      <td>448</td>\n",
       "      <td>台積電</td>\n",
       "      <td>35,052,642</td>\n",
       "      <td>49,928</td>\n",
       "      <td>17,966,410,242</td>\n",
       "      <td>509.00</td>\n",
       "      <td>516.00</td>\n",
       "      <td>507.00</td>\n",
       "      <td>516.00</td>\n",
       "      <td>+</td>\n",
       "      <td>16.0</td>\n",
       "      <td>515.00</td>\n",
       "      <td>732</td>\n",
       "      <td>516.00</td>\n",
       "      <td>478</td>\n",
       "      <td>20.28</td>\n",
       "      <td>2022-08-05 00:00:00</td>\n",
       "    </tr>\n",
       "  </tbody>\n",
       "</table>\n",
       "</div>"
      ],
      "text/plain": [
       "     index 證券名稱        成交股數    成交筆數            成交金額     開盤價     最高價     最低價  \\\n",
       "395    448  台積電  24,991,291  26,792  12,569,771,761  506.00  508.00  500.00   \n",
       "396    448  台積電  42,669,591  63,879  20,973,293,337  494.00  496.00  488.50   \n",
       "397    448  台積電  29,838,832  25,570  14,823,224,632  494.00  501.00  493.00   \n",
       "398    448  台積電  26,589,086  27,173  13,279,624,282  499.00  503.00  495.00   \n",
       "399    448  台積電  35,052,642  49,928  17,966,410,242  509.00  516.00  507.00   \n",
       "\n",
       "        收盤價 漲跌(+/-)  漲跌價差  最後揭示買價 最後揭示買量  最後揭示賣價 最後揭示賣量    本益比  \\\n",
       "395  504.00       -   5.0  503.00      6  504.00    315  19.81   \n",
       "396  492.00       -  12.0  491.50     44  492.00    350  19.34   \n",
       "397  501.00       +   9.0  500.00      9  501.00    581  19.69   \n",
       "398  500.00       -   1.0  499.50    592  500.00      4  19.65   \n",
       "399  516.00       +  16.0  515.00    732  516.00    478  20.28   \n",
       "\n",
       "                    Date  \n",
       "395  2022-08-01 00:00:00  \n",
       "396  2022-08-02 00:00:00  \n",
       "397  2022-08-03 00:00:00  \n",
       "398  2022-08-04 00:00:00  \n",
       "399  2022-08-05 00:00:00  "
      ]
     },
     "execution_count": 33,
     "metadata": {},
     "output_type": "execute_result"
    }
   ],
   "source": [
    "pd.read_sql(con=db2, sql='SELECT * FROM \"2330\"').tail()"
   ]
  }
 ],
 "metadata": {
  "kernelspec": {
   "display_name": "Python 3.10.5 64-bit",
   "language": "python",
   "name": "python3"
  },
  "language_info": {
   "codemirror_mode": {
    "name": "ipython",
    "version": 3
   },
   "file_extension": ".py",
   "mimetype": "text/x-python",
   "name": "python",
   "nbconvert_exporter": "python",
   "pygments_lexer": "ipython3",
   "version": "3.10.5"
  },
  "orig_nbformat": 4,
  "vscode": {
   "interpreter": {
    "hash": "3e6eaf00392b0cb8b5a646d3515e821c15d6342d64f11192f7e7dc8c1b273a06"
   }
  }
 },
 "nbformat": 4,
 "nbformat_minor": 2
}
