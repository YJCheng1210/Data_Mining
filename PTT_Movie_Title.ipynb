{
 "cells": [
  {
   "cell_type": "code",
   "execution_count": 29,
   "metadata": {},
   "outputs": [
    {
     "data": {
      "text/plain": [
       "['[宣導] 請注意防雷 / 分類',\n",
       " '[公告] 電影板板規 2021/9/4',\n",
       " '[討論] 為什麼高譚市民猜不到蝙蝠俠是布魯斯？',\n",
       " '[討論] 終極戰士的戰鬥，是否都不帶腦思考？',\n",
       " '[討論] 玩具總動員 安迪小時候看同性戀情節的電影?',\n",
       " '[討論] 《終極戰士：獸獵者》導演解釋劇中彩蛋',\n",
       " '[新聞]永恆族2、月光騎士2開始製作趙婷繼續回歸',\n",
       " '[負雷] 出神入化1',\n",
       " '[雷] 救命卡特',\n",
       " '[好獅雷] 子彈列車 bullet train Imax',\n",
       " '[普雷] 蠟筆小新：幽靈忍者珍風傳',\n",
       " '[負雷] 未來犯罪 太過藝術與抽象',\n",
       " '[好雷] 鬥陣俱樂部--你我的縮影',\n",
       " '[好雷] 好笑好玩的子彈列車',\n",
       " '[新聞] 原定今日在中國上線的《無家日》突被取消',\n",
       " '[新聞]《新‧超人力霸王》一字排開卡司超猛\\u3000「日票房近10億」9月上映',\n",
       " '[ 好無雷] 很有昆丁風格的子彈列車',\n",
       " '[好雷] 驚爆焦點',\n",
       " '[新聞] 《尚氣》劉思慕發文暗諷 DC《蝙蝠女孩 Batgirl》取消發行一事引起網路熱議',\n",
       " '[討論] 驚！黑暗騎士3 安海瑟薇 貓女也太正了',\n",
       " '[無雷] 終極戰士：獸獵者 Discovery刺激版',\n",
       " '[問片] 一部日本疑似恐怖片',\n",
       " '[討論] 子彈列車也被低估的太嚴重了吧',\n",
       " '[閒聊] 瓦甘達為啥不發給大家一人一套黑豹裝',\n",
       " 'R: [微普雷] 終極戰士：獸獵者',\n",
       " '[普雷]  終極戰士：獸獵者 觀後感',\n",
       " '[討論] 看完星際效應、黑暗騎士',\n",
       " 'Re: [討論] 如果由迪士尼來拍 捍衛戰士獨行俠',\n",
       " '[Live] StarMoviesGold 21:00 叢林奇航',\n",
       " '[  雷] 子彈列車 太好看啦 很好玩的一部電影',\n",
       " '[討論] Not Okay(hulu)評價還不錯',\n",
       " '[問片] 飛機雪地墜落兄弟上山救援（取財？）',\n",
       " '[討論] 如果由迪士尼來拍 捍衛戰士獨行俠',\n",
       " '[問片] 他以為是隕石結果是飛機上的大便',\n",
       " '[問片] 小時候的自己 突然闖入自己的生活',\n",
       " '[片單] 一個人站出來承擔責任的電影',\n",
       " '[新聞] DC總裁濱田即將離職',\n",
       " '[新聞] 女星安海契驚傳火燒車「嚴重燒傷命危」',\n",
       " '[雷] 救命卡特 Carter, Netflix',\n",
       " '[請益] 子彈列車有需要看4dx嗎？',\n",
       " '[討論] 除了杏林醫院、民雄鬼屋，還有哪些可拍？',\n",
       " '[好雷] 蚱蜢 （跟最近子彈列車同原作者）',\n",
       " '[好雷] 終極戰士：獸獵者（有雷）',\n",
       " '[ 極負雷] 民雄鬼屋',\n",
       " 'Re: ［微普雷］終極戰士：獸獵者',\n",
       " '[雷] 子彈列車的某段劇情',\n",
       " '[情報] 2022 瑞士奧斯卡代表：《愛別四季》',\n",
       " '[問片] [有雷] 想問一部預知未來有逃亡追逐電影',\n",
       " '[討論] 終極戰士「快去直升機」為何成為經典?',\n",
       " 'Re: [討論] dc 宇宙相關新消息',\n",
       " 'Re: [討論] 當初無敵浩克人氣為啥遠遜鋼鐵人?',\n",
       " '[無雷] 子彈列車-還不錯但什麼都差一點']"
      ]
     },
     "execution_count": 29,
     "metadata": {},
     "output_type": "execute_result"
    }
   ],
   "source": [
    "import requests\n",
    "from bs4 import BeautifulSoup\n",
    "headers = {'user-agent': 'Mozilla/5.0 (Linux; Android 6.0; Nexus 5 Build/MRA58N) AppleWebKit/537.36 (KHTML, like Gecko) Chrome/104.0.0.0 Mobile Safari/537.36'}\n",
    "url = 'https://www.pttweb.cc/bbs/movie'\n",
    "res = requests.get(url, headers=headers)\n",
    "res.encoding = 'utf-8'\n",
    "soup = BeautifulSoup(res.text, 'lxml')\n",
    "[e.text for e in soup.find_all('span', class_='e7-show-if-device-is-not-xs')]"
   ]
  }
 ],
 "metadata": {
  "kernelspec": {
   "display_name": "Python 3.10.5 64-bit",
   "language": "python",
   "name": "python3"
  },
  "language_info": {
   "codemirror_mode": {
    "name": "ipython",
    "version": 3
   },
   "file_extension": ".py",
   "mimetype": "text/x-python",
   "name": "python",
   "nbconvert_exporter": "python",
   "pygments_lexer": "ipython3",
   "version": "3.10.5"
  },
  "orig_nbformat": 4,
  "vscode": {
   "interpreter": {
    "hash": "a42ccb73e7d9bfdf27e036f1d2b8b681e55fc0743cc5586bc2474d4a60f4b886"
   }
  }
 },
 "nbformat": 4,
 "nbformat_minor": 2
}
